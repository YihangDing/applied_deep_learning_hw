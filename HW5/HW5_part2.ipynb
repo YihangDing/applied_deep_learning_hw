{
  "nbformat": 4,
  "nbformat_minor": 0,
  "metadata": {
    "colab": {
      "name": "HW5_part2.ipynb",
      "version": "0.3.2",
      "provenance": []
    },
    "kernelspec": {
      "name": "python3",
      "display_name": "Python 3"
    },
    "accelerator": "GPU"
  },
  "cells": [
    {
      "metadata": {
        "id": "khow9NztfzP-",
        "colab_type": "code",
        "colab": {}
      },
      "cell_type": "code",
      "source": [
        "!pip install -q tensorflow-gpu==2.0.0-alpha0"
      ],
      "execution_count": 0,
      "outputs": []
    },
    {
      "metadata": {
        "id": "zAJH1PgDgJnQ",
        "colab_type": "code",
        "outputId": "78c9c928-13b4-4ef3-ebca-0c20511fe6b5",
        "colab": {
          "base_uri": "https://localhost:8080/",
          "height": 71
        }
      },
      "cell_type": "code",
      "source": [
        "!pip install sacrebleu # https://github.com/mjpost/sacreBLEU"
      ],
      "execution_count": 0,
      "outputs": [
        {
          "output_type": "stream",
          "text": [
            "Requirement already satisfied: sacrebleu in /usr/local/lib/python3.6/dist-packages (1.3.1)\n",
            "Requirement already satisfied: typing in /usr/local/lib/python3.6/dist-packages (from sacrebleu) (3.6.6)\n"
          ],
          "name": "stdout"
        }
      ]
    },
    {
      "metadata": {
        "id": "26B4FWZlyQAY",
        "colab_type": "code",
        "outputId": "580a4fc0-dced-4bf4-b87a-39ec37dd7434",
        "colab": {
          "base_uri": "https://localhost:8080/",
          "height": 51
        }
      },
      "cell_type": "code",
      "source": [
        "!unzip spa-eng"
      ],
      "execution_count": 0,
      "outputs": [
        {
          "output_type": "stream",
          "text": [
            "Archive:  spa-eng.zip\n",
            "replace spa-eng/_about.txt? [y]es, [n]o, [A]ll, [N]one, [r]ename: "
          ],
          "name": "stdout"
        }
      ]
    },
    {
      "metadata": {
        "id": "s9C2PU2KyrO9",
        "colab_type": "code",
        "outputId": "538775f9-6e4b-49ff-ccdd-2e2e198c5a18",
        "colab": {
          "base_uri": "https://localhost:8080/",
          "height": 34
        }
      },
      "cell_type": "code",
      "source": [
        "!ls spa-eng"
      ],
      "execution_count": 0,
      "outputs": [
        {
          "output_type": "stream",
          "text": [
            "_about.txt  spa.txt\n"
          ],
          "name": "stdout"
        }
      ]
    },
    {
      "metadata": {
        "id": "RdHt6GALgJqO",
        "colab_type": "code",
        "colab": {}
      },
      "cell_type": "code",
      "source": [
        "import numpy as np\n",
        "import re\n",
        "import sacrebleu\n",
        "import tensorflow as tf\n",
        "import time\n",
        "import unicodedata"
      ],
      "execution_count": 0,
      "outputs": []
    },
    {
      "metadata": {
        "id": "qQsKur7DhuH5",
        "colab_type": "code",
        "outputId": "4805de3a-33c2-4ad8-9986-4374f29ffa3f",
        "colab": {
          "base_uri": "https://localhost:8080/",
          "height": 34
        }
      },
      "cell_type": "code",
      "source": [
        "tf.__version__"
      ],
      "execution_count": 5,
      "outputs": [
        {
          "output_type": "execute_result",
          "data": {
            "text/plain": [
              "'2.0.0-alpha0'"
            ]
          },
          "metadata": {
            "tags": []
          },
          "execution_count": 5
        }
      ]
    },
    {
      "metadata": {
        "id": "eLydB4PpypLZ",
        "colab_type": "code",
        "outputId": "e69b9614-806a-4558-dbd7-8fb6bee94fba",
        "colab": {
          "base_uri": "https://localhost:8080/",
          "height": 187
        }
      },
      "cell_type": "code",
      "source": [
        "with open('spa-eng/spa.txt') as f:\n",
        "  sentences=[]\n",
        "  for _ in range(5000):\n",
        "    tmp=f.readline()\n",
        "    sentences.append(list(reversed(tmp.split('\\t'))))\n",
        "sentences[:10]"
      ],
      "execution_count": 6,
      "outputs": [
        {
          "output_type": "execute_result",
          "data": {
            "text/plain": [
              "[['Ve.\\n', 'Go.'],\n",
              " ['Vete.\\n', 'Go.'],\n",
              " ['Vaya.\\n', 'Go.'],\n",
              " ['Váyase.\\n', 'Go.'],\n",
              " ['Hola.\\n', 'Hi.'],\n",
              " ['¡Corre!\\n', 'Run!'],\n",
              " ['Corred.\\n', 'Run.'],\n",
              " ['¿Quién?\\n', 'Who?'],\n",
              " ['¡Fuego!\\n', 'Fire!'],\n",
              " ['¡Incendio!\\n', 'Fire!']]"
            ]
          },
          "metadata": {
            "tags": []
          },
          "execution_count": 6
        }
      ]
    },
    {
      "metadata": {
        "id": "iLeh3f4VgJyd",
        "colab_type": "code",
        "colab": {}
      },
      "cell_type": "code",
      "source": [
        "def preprocess(s):\n",
        "  # for details, see https://www.tensorflow.org/alpha/tutorials/sequences/nmt_with_attention\n",
        "  s = ''.join(c for c in unicodedata.normalize('NFD', s) if unicodedata.category(c) != 'Mn')\n",
        "  # creating a space between a word and the punctuation following it\n",
        "  # eg: \"he is a boy.\" => \"he is a boy .\"\n",
        "  s = re.sub(r\"([?.!,¿])\", r\" \\1 \", s)\n",
        "  s = re.sub(r'[\" \"]+', \" \", s)\n",
        "  # replacing everything with space except (a-z, A-Z, \".\", \"?\", \"!\", \",\")\n",
        "  s = re.sub(r\"[^a-zA-Z?.!,¿]+\", \" \", s)\n",
        "  s = s.strip()\n",
        "  # adding a start and an end token to the sentence\n",
        "  # so that the model know when to start and stop predicting.\n",
        "  s = '<start> ' + s + ' <end>'\n",
        "  return s"
      ],
      "execution_count": 0,
      "outputs": []
    },
    {
      "metadata": {
        "id": "t_XD48hhgJ53",
        "colab_type": "code",
        "outputId": "a7d49bd0-94a9-48a4-e9c1-3c9e0cb3eacb",
        "colab": {
          "base_uri": "https://localhost:8080/",
          "height": 51
        }
      },
      "cell_type": "code",
      "source": [
        "print(\"Original:\", sentences[0])\n",
        "sentences = [(preprocess(source), preprocess(target)) for (source, target) in sentences]\n",
        "print(\"Preprocessed:\", sentences[0])"
      ],
      "execution_count": 8,
      "outputs": [
        {
          "output_type": "stream",
          "text": [
            "Original: ['Ve.\\n', 'Go.']\n",
            "Preprocessed: ('<start> Ve . <end>', '<start> Go . <end>')\n"
          ],
          "name": "stdout"
        }
      ]
    },
    {
      "metadata": {
        "id": "BswiuexJgJ_O",
        "colab_type": "code",
        "colab": {}
      },
      "cell_type": "code",
      "source": [
        "#pair english & spanish\n",
        "source_sentences, target_sentences = list(zip(*sentences))"
      ],
      "execution_count": 0,
      "outputs": []
    },
    {
      "metadata": {
        "id": "His8gJVWjiV2",
        "colab_type": "code",
        "outputId": "fc253eb4-99a8-4f8a-ae74-03333dcce93a",
        "colab": {
          "base_uri": "https://localhost:8080/",
          "height": 34
        }
      },
      "cell_type": "code",
      "source": [
        "source_sentences[0],target_sentences[0]"
      ],
      "execution_count": 10,
      "outputs": [
        {
          "output_type": "execute_result",
          "data": {
            "text/plain": [
              "('<start> Ve . <end>', '<start> Go . <end>')"
            ]
          },
          "metadata": {
            "tags": []
          },
          "execution_count": 10
        }
      ]
    },
    {
      "metadata": {
        "id": "dEavGQFDgKE4",
        "colab_type": "code",
        "outputId": "4cc6133f-03e0-400d-8c5b-3c863f7f03f8",
        "colab": {
          "base_uri": "https://localhost:8080/",
          "height": 51
        }
      },
      "cell_type": "code",
      "source": [
        "source_tokenizer = tf.keras.preprocessing.text.Tokenizer(filters='')\n",
        "source_tokenizer.fit_on_texts(source_sentences)\n",
        "source_data = source_tokenizer.texts_to_sequences(source_sentences)\n",
        "print(\"Sequence:\", source_data[0])\n",
        "source_data = tf.keras.preprocessing.sequence.pad_sequences(source_data, padding='post')\n",
        "print(\"Padded:\", source_data[0])"
      ],
      "execution_count": 11,
      "outputs": [
        {
          "output_type": "stream",
          "text": [
            "Sequence: [1, 71, 3, 2]\n",
            "Padded: [ 1 71  3  2  0  0  0  0  0  0  0  0]\n"
          ],
          "name": "stdout"
        }
      ]
    },
    {
      "metadata": {
        "id": "YEuOTzwegKC5",
        "colab_type": "code",
        "colab": {}
      },
      "cell_type": "code",
      "source": [
        "target_tokenizer = tf.keras.preprocessing.text.Tokenizer(filters='')\n",
        "target_tokenizer.fit_on_texts(target_sentences)\n",
        "target_data = target_tokenizer.texts_to_sequences(target_sentences)\n",
        "target_data = tf.keras.preprocessing.sequence.pad_sequences(target_data, padding='post')"
      ],
      "execution_count": 0,
      "outputs": []
    },
    {
      "metadata": {
        "id": "jgA8z6CWgJ8h",
        "colab_type": "code",
        "outputId": "d6372dd8-d5e4-4925-cb90-488e48650d71",
        "colab": {
          "base_uri": "https://localhost:8080/",
          "height": 51
        }
      },
      "cell_type": "code",
      "source": [
        "# Create labels for the decoder by shifting the target sequence\n",
        "# one to the right.\n",
        "target_labels = np.zeros(target_data.shape)\n",
        "target_labels[:,0:target_data.shape[1] -1] = target_data[:,1:]\n",
        "\n",
        "print(\"Target sequence\", target_data[0])\n",
        "print(\"Target label\", target_labels[0])"
      ],
      "execution_count": 13,
      "outputs": [
        {
          "output_type": "stream",
          "text": [
            "Target sequence [ 1 19  3  2  0  0  0  0]\n",
            "Target label [19.  3.  2.  0.  0.  0.  0.  0.]\n"
          ],
          "name": "stdout"
        }
      ]
    },
    {
      "metadata": {
        "id": "3RslwJbDgJ3I",
        "colab_type": "code",
        "colab": {}
      },
      "cell_type": "code",
      "source": [
        "source_vocab_size = len(source_tokenizer.word_index) + 1\n",
        "target_vocab_size = len(target_tokenizer.word_index) + 1"
      ],
      "execution_count": 0,
      "outputs": []
    },
    {
      "metadata": {
        "id": "W-EGQwVRgJ0m",
        "colab_type": "code",
        "outputId": "9e8a6980-a9b0-4d39-892e-929da09aee24",
        "colab": {
          "base_uri": "https://localhost:8080/",
          "height": 85
        }
      },
      "cell_type": "code",
      "source": [
        "def decode(encoded, tokenizer):\n",
        "  for number in encoded:\n",
        "    if number !=0:\n",
        "      print (\"%d -> %s\" % (number, tokenizer.index_word[number]))\n",
        "      \n",
        "decode(source_data[0], source_tokenizer)"
      ],
      "execution_count": 15,
      "outputs": [
        {
          "output_type": "stream",
          "text": [
            "1 -> <start>\n",
            "71 -> ve\n",
            "3 -> .\n",
            "2 -> <end>\n"
          ],
          "name": "stdout"
        }
      ]
    },
    {
      "metadata": {
        "id": "ah_5XbSGgJtI",
        "colab_type": "code",
        "colab": {}
      },
      "cell_type": "code",
      "source": [
        "batch_size = 5\n",
        "dataset = tf.data.Dataset.from_tensor_slices((source_data, target_data, target_labels)).batch(batch_size)"
      ],
      "execution_count": 0,
      "outputs": []
    },
    {
      "metadata": {
        "id": "T5sHioWfgjTv",
        "colab_type": "code",
        "outputId": "dcbdb111-69d2-469d-9801-b1aef7fd2b19",
        "colab": {
          "base_uri": "https://localhost:8080/",
          "height": 34
        }
      },
      "cell_type": "code",
      "source": [
        "example_batch = next(iter(dataset))\n",
        "source, target, taget_labels = example_batch\n",
        "print(\"Shapes:\", source.shape, target.shape, taget_labels.shape)"
      ],
      "execution_count": 17,
      "outputs": [
        {
          "output_type": "stream",
          "text": [
            "Shapes: (5, 12) (5, 8) (5, 8)\n"
          ],
          "name": "stdout"
        }
      ]
    },
    {
      "metadata": {
        "id": "TAjcgsNxgjZ7",
        "colab_type": "code",
        "colab": {}
      },
      "cell_type": "code",
      "source": [
        "embedding_size = 32\n",
        "rnn_size = 64"
      ],
      "execution_count": 0,
      "outputs": []
    },
    {
      "metadata": {
        "id": "uz7reJWegjfk",
        "colab_type": "code",
        "colab": {}
      },
      "cell_type": "code",
      "source": [
        "class Encoder(tf.keras.Model):\n",
        "  def __init__(self):\n",
        "    super(Encoder, self).__init__()\n",
        "    \n",
        "    self.embedding = tf.keras.layers.Embedding(source_vocab_size,\n",
        "                                               embedding_size)\n",
        "    self.gru = tf.keras.layers.GRU(rnn_size, \n",
        "                                   return_sequences=True, \n",
        "                                   return_state=True)\n",
        "    \n",
        "  def call(self, x, hidden):\n",
        "    x = self.embedding(x)\n",
        "    output, state = self.gru(x, initial_state=hidden)        \n",
        "    return output, state\n",
        "  \n",
        "  def init_state(self, batch_size):\n",
        "    return tf.zeros((batch_size, rnn_size))"
      ],
      "execution_count": 0,
      "outputs": []
    },
    {
      "metadata": {
        "id": "hKqdE4lEgjjl",
        "colab_type": "code",
        "outputId": "d744fbc3-a10a-4e3f-e2f4-08a53a274fed",
        "colab": {
          "base_uri": "https://localhost:8080/",
          "height": 68
        }
      },
      "cell_type": "code",
      "source": [
        "#call encoder\n",
        "# Create a batch of one sentence\n",
        "ex_sentence = tf.expand_dims(source_data[0], axis=0)\n",
        "ex_translation = tf.expand_dims(target_data[0], axis=0)\n",
        "ex_labels = tf.expand_dims(target_labels[0], axis=0)\n",
        "print(ex_sentence.shape)\n",
        "\n",
        "encoder = Encoder()\n",
        "hidden_state = encoder.init_state(batch_size=1)\n",
        "print(hidden_state.shape)\n",
        "\n",
        "output, hidden_state = encoder(ex_sentence, hidden_state)\n",
        "print(output.shape)"
      ],
      "execution_count": 20,
      "outputs": [
        {
          "output_type": "stream",
          "text": [
            "(1, 12)\n",
            "(1, 64)\n",
            "(1, 12, 64)\n"
          ],
          "name": "stdout"
        }
      ]
    },
    {
      "metadata": {
        "id": "1YMBKMtLgjmG",
        "colab_type": "code",
        "colab": {}
      },
      "cell_type": "code",
      "source": [
        "class Decoder(tf.keras.Model):\n",
        "  def __init__(self):\n",
        "    super(Decoder, self).__init__()\n",
        "    self.embedding = tf.keras.layers.Embedding(target_vocab_size, \n",
        "                                               embedding_size)\n",
        "    self.gru = tf.keras.layers.GRU(rnn_size, \n",
        "                                   return_sequences=True, \n",
        "                                   return_state=True)\n",
        "\n",
        "    self.dense = tf.keras.layers.Dense(target_vocab_size)\n",
        "\n",
        "\n",
        "  def call(self, x, hidden):\n",
        "    x = self.embedding(x)\n",
        "    output, state = self.gru(x, initial_state=hidden)\n",
        "    logits = self.dense(output)\n",
        "    return logits, state"
      ],
      "execution_count": 0,
      "outputs": []
    },
    {
      "metadata": {
        "id": "383IfCFRgjd1",
        "colab_type": "code",
        "outputId": "8ea30abe-94bb-47b1-9ead-cbb2a5427320",
        "colab": {
          "base_uri": "https://localhost:8080/",
          "height": 34
        }
      },
      "cell_type": "code",
      "source": [
        "#call decoder\n",
        "decoder = Decoder()\n",
        "decoder_output, decoder_state = decoder(ex_labels, hidden_state)\n",
        "print(decoder_output.shape)"
      ],
      "execution_count": 22,
      "outputs": [
        {
          "output_type": "stream",
          "text": [
            "(1, 8, 1389)\n"
          ],
          "name": "stdout"
        }
      ]
    },
    {
      "metadata": {
        "id": "hWimers-gjXP",
        "colab_type": "code",
        "outputId": "e5807a4d-1e02-4e8a-927f-f07dbd530e97",
        "colab": {
          "base_uri": "https://localhost:8080/",
          "height": 34
        }
      },
      "cell_type": "code",
      "source": [
        "crossentropy = tf.keras.losses.SparseCategoricalCrossentropy(from_logits=True)\n",
        "\n",
        "def calc_loss(targets, logits):\n",
        "  mask = tf.math.logical_not(tf.math.equal(targets, 0))\n",
        "  mask = tf.cast(mask, dtype=tf.int64)\n",
        "  return crossentropy(targets, logits, sample_weight=mask)\n",
        "\n",
        "print(\"Loss\", calc_loss(ex_labels, decoder_output))"
      ],
      "execution_count": 23,
      "outputs": [
        {
          "output_type": "stream",
          "text": [
            "Loss tf.Tensor(2.7119143, shape=(), dtype=float32)\n"
          ],
          "name": "stdout"
        }
      ]
    },
    {
      "metadata": {
        "id": "xuVjZhObg2X7",
        "colab_type": "code",
        "colab": {}
      },
      "cell_type": "code",
      "source": [
        "def translate(idx=None):\n",
        "  \n",
        "    if idx == None: \n",
        "      idx = np.random.choice(len(sentences))\n",
        "    \n",
        "    input_sent = source_data[idx]\n",
        "    input_sent = tf.expand_dims(input_sent, axis=0)\n",
        "    \n",
        "    hidden_state = encoder.init_state(batch_size=1)\n",
        "    output, hidden_state = encoder(input_sent, hidden_state)\n",
        "    \n",
        "    decoder_input = tf.expand_dims([target_tokenizer.word_index['<start>']], 0)\n",
        "    out_words = []\n",
        "    \n",
        "    decoder_state = hidden_state\n",
        "\n",
        "    while True:\n",
        "      \n",
        "        decoder_output, decoder_state = decoder(decoder_input, decoder_state)\n",
        "        decoder_input = tf.argmax(decoder_output, -1)\n",
        "        word_idx = decoder_input.numpy()[0][0]\n",
        "        # if we've predicted 0 (which is reserved, usually this will only happen\n",
        "        # before the decoder is trained, just stop translating and return\n",
        "        # what we have)\n",
        "        if word_idx == 0: \n",
        "          out_words.append('<end>')\n",
        "        else:\n",
        "          out_words.append(target_tokenizer.index_word[word_idx])\n",
        "\n",
        "        if out_words[-1] == '<end>' or len(out_words) >= 20:\n",
        "          break\n",
        "          \n",
        "    translation = ' '.join(out_words)    \n",
        "    return sentences[idx][0], sentences[idx][1], translation"
      ],
      "execution_count": 0,
      "outputs": []
    },
    {
      "metadata": {
        "id": "kj3LHP_Bg2bF",
        "colab_type": "code",
        "outputId": "f8dfac8a-9569-4d6d-8ae4-62eaae31063b",
        "colab": {
          "base_uri": "https://localhost:8080/",
          "height": 85
        }
      },
      "cell_type": "code",
      "source": [
        "input_sent, target_sent, translation = translate()\n",
        "print(\"Input: %s\\nTarget: %s\\nTranslation: %s\\n\" % (input_sent, target_sent, translation))"
      ],
      "execution_count": 25,
      "outputs": [
        {
          "output_type": "stream",
          "text": [
            "Input: <start> Eso es enorme . <end>\n",
            "Target: <start> That s huge . <end>\n",
            "Translation: release bmw smile release bmw framed became twin they clocks lasts eat dishes yawned hired pushing aim gone hesitant still\n",
            "\n"
          ],
          "name": "stdout"
        }
      ]
    },
    {
      "metadata": {
        "id": "oMuxE6l2g2gm",
        "colab_type": "code",
        "colab": {}
      },
      "cell_type": "code",
      "source": [
        "optimizer = tf.keras.optimizers.Adam()"
      ],
      "execution_count": 0,
      "outputs": []
    },
    {
      "metadata": {
        "id": "-E5-xNPBg2kU",
        "colab_type": "code",
        "colab": {}
      },
      "cell_type": "code",
      "source": [
        "@tf.function # remove this annotation when debugging\n",
        "def train_step(source_seq, target_seq, target_labels, initial_state):\n",
        "  \n",
        "  with tf.GradientTape() as tape:\n",
        "    encoder_output, encoder_state = encoder(source_seq, initial_state)\n",
        "    logits, decoder_state = decoder(target_seq, encoder_state)\n",
        "    loss = calc_loss(target_labels, logits)\n",
        "\n",
        "  variables = encoder.trainable_variables + decoder.trainable_variables\n",
        "  gradients = tape.gradient(loss, variables)\n",
        "  optimizer.apply_gradients(zip(gradients, variables))\n",
        "\n",
        "  return loss"
      ],
      "execution_count": 0,
      "outputs": []
    },
    {
      "metadata": {
        "id": "gBoOzH_Bsfz3",
        "colab_type": "code",
        "outputId": "3c92e3a9-29bf-41bd-f76c-2c96ad34cd25",
        "colab": {
          "base_uri": "https://localhost:8080/",
          "height": 34
        }
      },
      "cell_type": "code",
      "source": [
        "dataset"
      ],
      "execution_count": 28,
      "outputs": [
        {
          "output_type": "execute_result",
          "data": {
            "text/plain": [
              "<BatchDataset shapes: ((None, 12), (None, 8), (None, 8)), types: (tf.int32, tf.int32, tf.float64)>"
            ]
          },
          "metadata": {
            "tags": []
          },
          "execution_count": 28
        }
      ]
    },
    {
      "metadata": {
        "id": "40tCzxcqg2oG",
        "colab_type": "code",
        "outputId": "05e01e8c-60fe-4fd0-ca91-885cc3039223",
        "colab": {
          "base_uri": "https://localhost:8080/",
          "height": 1717
        }
      },
      "cell_type": "code",
      "source": [
        "EPOCHS = 200\n",
        "\n",
        "for epoch in range(EPOCHS):\n",
        "    start = time.time()\n",
        "  \n",
        "    en_initial_states = encoder.init_state(batch_size)\n",
        "    \n",
        "    for batch, (source_seq, target_seq, target_labels) in enumerate(dataset):\n",
        "      loss = train_step(source_seq, target_seq, target_labels, en_initial_states)\n",
        "      elapsed = time.time() - start\n",
        "    \n",
        "    if epoch % 10 == 0:\n",
        "      print(\"Epoch #%d, Loss %.4f, Time %.2f sec\" % (epoch, loss, elapsed))\n",
        "      input_sent, target_sent, translation = translate()\n",
        "      print(\"Input: %s\\nTarget: %s\\nTranslation: %s\\n\" % (input_sent, target_sent, translation))"
      ],
      "execution_count": 29,
      "outputs": [
        {
          "output_type": "stream",
          "text": [
            "Epoch #0, Loss 2.0469, Time 8.25 sec\n",
            "Input: <start> Yo no vi . <end>\n",
            "Target: <start> I didn t look . <end>\n",
            "Translation: i s a a lot . <end>\n",
            "\n",
            "Epoch #10, Loss 0.9567, Time 6.21 sec\n",
            "Input: <start> No te muevas . <end>\n",
            "Target: <start> Be still . <end>\n",
            "Translation: don t go up . <end>\n",
            "\n",
            "Epoch #20, Loss 0.6560, Time 6.23 sec\n",
            "Input: <start> Pero que dia ! <end>\n",
            "Target: <start> What a day ! <end>\n",
            "Translation: why a door ! <end>\n",
            "\n",
            "Epoch #30, Loss 0.4639, Time 6.14 sec\n",
            "Input: <start> Ya has vuelto . <end>\n",
            "Target: <start> You re back . <end>\n",
            "Translation: you re fired . <end>\n",
            "\n",
            "Epoch #40, Loss 0.3571, Time 7.07 sec\n",
            "Input: <start> Ellos votaron . <end>\n",
            "Target: <start> They voted . <end>\n",
            "Translation: they us boys . <end>\n",
            "\n",
            "Epoch #50, Loss 0.2772, Time 6.07 sec\n",
            "Input: <start> Estoy leyendo . <end>\n",
            "Target: <start> I m reading . <end>\n",
            "Translation: i m on strike . <end>\n",
            "\n",
            "Epoch #60, Loss 0.1281, Time 6.06 sec\n",
            "Input: <start> ¿ Quien te paga ? <end>\n",
            "Target: <start> Who pays you ? <end>\n",
            "Translation: who pays you ? <end>\n",
            "\n",
            "Epoch #70, Loss 0.0760, Time 6.08 sec\n",
            "Input: <start> Soy justo . <end>\n",
            "Target: <start> I m fair . <end>\n",
            "Translation: i m very cold . <end>\n",
            "\n",
            "Epoch #80, Loss 0.0674, Time 6.09 sec\n",
            "Input: <start> Los hombres son cerdos . <end>\n",
            "Target: <start> Men are pigs . <end>\n",
            "Translation: men are pigs . <end>\n",
            "\n",
            "Epoch #90, Loss 0.0723, Time 6.70 sec\n",
            "Input: <start> Se clemente . <end>\n",
            "Target: <start> Be merciful . <end>\n",
            "Translation: be objective . <end>\n",
            "\n",
            "Epoch #100, Loss 0.0340, Time 6.20 sec\n",
            "Input: <start> ¿ Sos feliz ? <end>\n",
            "Target: <start> Are you happy ? <end>\n",
            "Translation: are you happy ? <end>\n",
            "\n",
            "Epoch #110, Loss 0.0899, Time 6.13 sec\n",
            "Input: <start> Tom pagara . <end>\n",
            "Target: <start> Tom ll pay . <end>\n",
            "Translation: tom ran . <end>\n",
            "\n",
            "Epoch #120, Loss 0.0269, Time 6.15 sec\n",
            "Input: <start> Lo intentaste . <end>\n",
            "Target: <start> You tried . <end>\n",
            "Translation: you know lying . <end>\n",
            "\n",
            "Epoch #130, Loss 0.0339, Time 7.00 sec\n",
            "Input: <start> Apunta . Fuego ! <end>\n",
            "Target: <start> Aim . Fire ! <end>\n",
            "Translation: aim . fire ! <end>\n",
            "\n",
            "Epoch #140, Loss 0.0101, Time 7.13 sec\n",
            "Input: <start> Puedo ver a Tom . <end>\n",
            "Target: <start> I can see Tom . <end>\n",
            "Translation: i can see tom . <end>\n",
            "\n",
            "Epoch #150, Loss 0.0083, Time 5.99 sec\n",
            "Input: <start> Estas borracha . <end>\n",
            "Target: <start> You re drunk . <end>\n",
            "Translation: you re drunk . <end>\n",
            "\n",
            "Epoch #160, Loss 0.0576, Time 5.96 sec\n",
            "Input: <start> Yo compraria eso . <end>\n",
            "Target: <start> I d buy that . <end>\n",
            "Translation: i d buy this . <end>\n",
            "\n",
            "Epoch #170, Loss 0.0141, Time 6.28 sec\n",
            "Input: <start> Eso ayuda . <end>\n",
            "Target: <start> It helps . <end>\n",
            "Translation: it helps . <end>\n",
            "\n",
            "Epoch #180, Loss 0.0233, Time 5.91 sec\n",
            "Input: <start> Tenia hambre . <end>\n",
            "Target: <start> I felt hungry . <end>\n",
            "Translation: i felt hungry . <end>\n",
            "\n",
            "Epoch #190, Loss 0.0483, Time 6.01 sec\n",
            "Input: <start> Alla esta ! <end>\n",
            "Target: <start> There it is ! <end>\n",
            "Translation: there it is ! <end>\n",
            "\n"
          ],
          "name": "stdout"
        }
      ]
    },
    {
      "metadata": {
        "id": "y0Dklr7Kg2fS",
        "colab_type": "code",
        "outputId": "fdfeb69f-e85d-4600-b600-11a226e0e57f",
        "colab": {
          "base_uri": "https://localhost:8080/",
          "height": 54
        }
      },
      "cell_type": "code",
      "source": [
        "#calculate BLEU score\n",
        "references, hypotheses = [], []\n",
        "\n",
        "for i in range(len(sentences)):\n",
        "  input_sent, target_sent, translation = translate()\n",
        "  references.append(target_sent)\n",
        "  hypotheses.append(\"<start> \" + translation)\n",
        "  \n",
        "results = sacrebleu.raw_corpus_bleu(hypotheses, [references])\n",
        "print(results)"
      ],
      "execution_count": 30,
      "outputs": [
        {
          "output_type": "stream",
          "text": [
            "BLEU(score=35.62104089811024, counts=[22175, 10839, 5774, 2587], totals=[29953, 24953, 19953, 14953], precisions=[74.03265115347378, 43.43766280607542, 28.938004310128804, 17.30087607837892], bp=1.0, sys_len=29953, ref_len=29585)\n"
          ],
          "name": "stdout"
        }
      ]
    },
    {
      "metadata": {
        "id": "khWISC6xtzBQ",
        "colab_type": "code",
        "colab": {}
      },
      "cell_type": "code",
      "source": [
        ""
      ],
      "execution_count": 0,
      "outputs": []
    },
    {
      "metadata": {
        "id": "1uBmDXl9yEOW",
        "colab_type": "code",
        "colab": {}
      },
      "cell_type": "code",
      "source": [
        ""
      ],
      "execution_count": 0,
      "outputs": []
    }
  ]
}