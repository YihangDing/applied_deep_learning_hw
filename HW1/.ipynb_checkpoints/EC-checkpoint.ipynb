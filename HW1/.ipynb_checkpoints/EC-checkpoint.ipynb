{
 "cells": [
  {
   "cell_type": "code",
   "execution_count": 1,
   "metadata": {
    "colab": {
     "base_uri": "https://localhost:8080/",
     "height": 34
    },
    "colab_type": "code",
    "id": "CPpH-ozzaO7K",
    "outputId": "bf0b85d9-0a4b-4c21-937c-e7f3be131cfc"
   },
   "outputs": [
    {
     "name": "stdout",
     "output_type": "stream",
     "text": [
      "You have version 2.0.0-dev20190207\n"
     ]
    }
   ],
   "source": [
    "import tensorflow as tf\n",
    "print(\"You have version\", tf.__version__)\n",
    "assert tf.__version__ >= \"2.0\" # TensorFlow ≥ 2.0 required"
   ]
  },
  {
   "cell_type": "code",
   "execution_count": 0,
   "metadata": {
    "colab": {},
    "colab_type": "code",
    "id": "i0VxI2zS4YTH"
   },
   "outputs": [],
   "source": [
    "import numpy as np\n",
    "\n",
    "from tensorflow.keras import Model\n",
    "from tensorflow.keras.layers import Dense, Flatten\n",
    "from matplotlib import pyplot as plt"
   ]
  },
  {
   "cell_type": "code",
   "execution_count": 0,
   "metadata": {
    "colab": {},
    "colab_type": "code",
    "id": "ohAyv1PE4YWK"
   },
   "outputs": [],
   "source": [
    "#load dataset\n",
    "mnist = tf.keras.datasets.fashion_mnist\n",
    "\n",
    "(x_train, y_train), (x_test, y_test) = mnist.load_data()\n",
    "\n",
    "x_train = x_train.astype('float32')\n",
    "x_test = x_test.astype('float32')\n",
    "\n",
    "x_train = x_train / 255\n",
    "x_test = x_test / 255"
   ]
  },
  {
   "cell_type": "code",
   "execution_count": 0,
   "metadata": {
    "colab": {},
    "colab_type": "code",
    "id": "KDsk7ib14YZI"
   },
   "outputs": [],
   "source": [
    "#batch size & shuffle data\n",
    "BATCH_SIZE = 128\n",
    "BUFFER_SIZE = len(x_train)\n",
    "\n",
    "mnist_train = tf.data.Dataset.from_tensor_slices((x_train, y_train)).shuffle(BUFFER_SIZE).batch(BATCH_SIZE)\n",
    "mnist_test = tf.data.Dataset.from_tensor_slices((x_test, y_test)).batch(BATCH_SIZE)"
   ]
  },
  {
   "cell_type": "code",
   "execution_count": 0,
   "metadata": {
    "colab": {},
    "colab_type": "code",
    "id": "YUO0431N4Yel"
   },
   "outputs": [],
   "source": [
    "#define model: Linear Model\n",
    "class MyModel1(Model):\n",
    "  def __init__(self):\n",
    "    super(MyModel1, self).__init__()\n",
    "    self.flatten = Flatten()\n",
    "    #self.d1 = Dense(128, activation='relu')\n",
    "    self.d1 = Dense(10, activation='softmax')\n",
    "\n",
    "  def call(self, x):\n",
    "    x = self.flatten(x)\n",
    "    #x = self.d1(x)\n",
    "    return self.d1(x)\n",
    "  \n",
    "model1 = MyModel1()"
   ]
  },
  {
   "cell_type": "code",
   "execution_count": 0,
   "metadata": {
    "colab": {},
    "colab_type": "code",
    "id": "G0tciHVo4Ym0"
   },
   "outputs": [],
   "source": [
    "#Choose optimizer\n",
    "loss_function = tf.keras.losses.SparseCategoricalCrossentropy(from_logits=False)\n",
    "optimizer = tf.keras.optimizers.Adam()"
   ]
  },
  {
   "cell_type": "code",
   "execution_count": 0,
   "metadata": {
    "colab": {},
    "colab_type": "code",
    "id": "ihKt3SYs4YkO"
   },
   "outputs": [],
   "source": [
    "train_loss_metric = tf.keras.metrics.Mean(name='train_loss')\n",
    "test_loss_metric = tf.keras.metrics.Mean(name='test_loss')\n",
    "\n",
    "train_accuracy_metric = tf.keras.metrics.SparseCategoricalAccuracy(name='train_accuracy')\n",
    "test_accuracy_metric = tf.keras.metrics.SparseCategoricalAccuracy(name='test_accuracy')"
   ]
  },
  {
   "cell_type": "code",
   "execution_count": 0,
   "metadata": {
    "colab": {},
    "colab_type": "code",
    "id": "NlZcQAzF4Yij"
   },
   "outputs": [],
   "source": [
    "#Train the model using GradientTape\n",
    "def train_step(images, labels):\n",
    "  with tf.GradientTape() as tape:    \n",
    "    # Forward pass\n",
    "    predictions = model1(images)\n",
    "    train_loss = loss_function(y_true=labels, y_pred=predictions)\n",
    "  \n",
    "  # Backward pass\n",
    "  gradients = tape.gradient(train_loss, model1.trainable_variables)\n",
    "  optimizer.apply_gradients(zip(gradients, model1.trainable_variables))\n",
    "\n",
    "  # Record results\n",
    "  train_loss_metric(train_loss)\n",
    "  train_accuracy_metric(labels, predictions)"
   ]
  },
  {
   "cell_type": "code",
   "execution_count": 0,
   "metadata": {
    "colab": {},
    "colab_type": "code",
    "id": "kRyAvW-W4YdE"
   },
   "outputs": [],
   "source": [
    "def test_step(images, labels):\n",
    "  predictions = model1(images)\n",
    "  test_loss = loss_function(y_true=labels, y_pred=predictions)\n",
    "  \n",
    "  # Record results\n",
    "  test_loss_metric(test_loss)\n",
    "  test_accuracy_metric(labels, predictions)"
   ]
  },
  {
   "cell_type": "code",
   "execution_count": 10,
   "metadata": {
    "colab": {
     "base_uri": "https://localhost:8080/",
     "height": 187
    },
    "colab_type": "code",
    "id": "K3R2FGCK4xvW",
    "outputId": "3079f319-d0da-4451-885f-e3324ce522fc"
   },
   "outputs": [
    {
     "name": "stdout",
     "output_type": "stream",
     "text": [
      "Epoch 1, Loss: 0.7384, Accuracy: 75.49, Test loss: 0.5701, Test accuracy: 80.90\n",
      "Epoch 2, Loss: 0.6266, Accuracy: 79.11, Test loss: 0.5412, Test accuracy: 81.66\n",
      "Epoch 3, Loss: 0.5755, Accuracy: 80.76, Test loss: 0.5236, Test accuracy: 82.19\n",
      "Epoch 4, Loss: 0.5445, Accuracy: 81.76, Test loss: 0.5114, Test accuracy: 82.52\n",
      "Epoch 5, Loss: 0.5231, Accuracy: 82.43, Test loss: 0.5024, Test accuracy: 82.77\n",
      "Epoch 6, Loss: 0.5072, Accuracy: 82.92, Test loss: 0.4955, Test accuracy: 82.97\n",
      "Epoch 7, Loss: 0.4948, Accuracy: 83.31, Test loss: 0.4899, Test accuracy: 83.13\n",
      "Epoch 8, Loss: 0.4848, Accuracy: 83.62, Test loss: 0.4854, Test accuracy: 83.26\n",
      "Epoch 9, Loss: 0.4764, Accuracy: 83.88, Test loss: 0.4816, Test accuracy: 83.36\n",
      "Epoch 10, Loss: 0.4693, Accuracy: 84.10, Test loss: 0.4783, Test accuracy: 83.45\n"
     ]
    }
   ],
   "source": [
    "EPOCHS = 10\n",
    "\n",
    "for epoch in range(EPOCHS):\n",
    "  for images, labels in mnist_train:\n",
    "    train_step(images, labels)\n",
    "  \n",
    "  for test_images, test_labels in mnist_test:\n",
    "    test_step(test_images, test_labels)\n",
    "  \n",
    "  template = 'Epoch {}, Loss: {:.4f}, Accuracy: {:.2f}, Test loss: {:.4f}, Test accuracy: {:.2f}'\n",
    "  print (template.format(epoch +1, \n",
    "                         train_loss_metric.result(), \n",
    "                         train_accuracy_metric.result() * 100, \n",
    "                         test_loss_metric.result(), \n",
    "                         test_accuracy_metric.result() * 100))"
   ]
  },
  {
   "cell_type": "code",
   "execution_count": 11,
   "metadata": {
    "colab": {
     "base_uri": "https://localhost:8080/",
     "height": 51
    },
    "colab_type": "code",
    "id": "kEUwluhw4xyj",
    "outputId": "049c282d-963c-4347-cfcf-4369dc31d19a"
   },
   "outputs": [
    {
     "data": {
      "text/plain": [
       "[<tensorflow.python.keras.layers.core.Flatten at 0x7f99b404bb38>,\n",
       " <tensorflow.python.keras.layers.core.Dense at 0x7f99b404b9b0>]"
      ]
     },
     "execution_count": 11,
     "metadata": {
      "tags": []
     },
     "output_type": "execute_result"
    }
   ],
   "source": [
    "model1.layers"
   ]
  },
  {
   "cell_type": "code",
   "execution_count": 12,
   "metadata": {
    "colab": {
     "base_uri": "https://localhost:8080/",
     "height": 291
    },
    "colab_type": "code",
    "id": "0M4Lt0mR4x2I",
    "outputId": "b7bb24fa-60a7-4186-a131-83db04dbf4dd"
   },
   "outputs": [
    {
     "data": {
      "image/png": "[encoded data removed]",
      "text/plain": [
       "<Figure size 576x396 with 10 Axes>"
      ]
     },
     "metadata": {
      "tags": []
     },
     "output_type": "display_data"
    }
   ],
   "source": [
    "#visualize weights\n",
    "weights=model1.get_weights()\n",
    "weight=np.array(weights[0])\n",
    "#print(weight.shape)\n",
    "w=weight.reshape(28,28,10)\n",
    "for i in range(10):\n",
    "  plt.subplot(2,5,i+1)\n",
    "  plt.imshow(w[:,:,i])\n",
    "plt.show()"
   ]
  },
  {
   "cell_type": "code",
   "execution_count": 0,
   "metadata": {
    "colab": {},
    "colab_type": "code",
    "id": "QT59YkR85Qqt"
   },
   "outputs": [],
   "source": []
  }
 ],
 "metadata": {
  "colab": {
   "name": "EC.ipynb",
   "provenance": [],
   "version": "0.3.2"
  },
  "kernelspec": {
   "display_name": "Python 3",
   "language": "python",
   "name": "python3"
  },
  "language_info": {
   "codemirror_mode": {
    "name": "ipython",
    "version": 3
   },
   "file_extension": ".py",
   "mimetype": "text/x-python",
   "name": "python",
   "nbconvert_exporter": "python",
   "pygments_lexer": "ipython3",
   "version": "3.6.6"
  }
 },
 "nbformat": 4,
 "nbformat_minor": 1
}
